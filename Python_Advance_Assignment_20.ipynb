{
  "cells": [
    {
      "cell_type": "markdown",
      "id": "6f43a21d",
      "metadata": {
        "id": "6f43a21d"
      },
      "source": [
        "Q1). Compare and contrast the float and Decimal classes's benefits and drawbacks.\n",
        "\n",
        "Ans) Float objects like this one are always represented internally up to a certain degree of accuracy only.This becomes evident when adding 0.1 to a:\n",
        "The reason for this is that floats are internally represented in binary format;\n",
        "that is, a decimal number 0 < n < 1 is represented by a series of the form .For certain floating-point numbers the binary representation might involve a large numberof elements or might even be an infinite series. However, given a fixed number of bits used to represent such a number—i.e., a fixed number of terms in the representation series—inaccuracies are the consequence. Other numbers can be represented perfectly and are therefore stored exactly even with a finite number of bits available.\n",
        "Example is  :\n",
        "i.e. 0.5 is exactly represented as 1/2\n",
        "incase of b=0.35\n",
        "Here teh b=0.35 is not exact\n",
        "      \n",
        "The precision is dependent on the number of bits used to represent the number. \n",
        "Hence some error can creep in. It translates 15 digits accuracy for float.\n",
        "For example, the issue can be of importance when summing over a large set of numbers.In such a situation, a certain kind and/or magnitude of representation error might,in aggregate, lead to significant deviations from a benchmark value .In order to overcome this we use the decimal module.The module decimal provides an arbitrary-precision object for floating-point numbers and several options to address precision issues when working with such numbers .The precision can in this way be adjusted to the exact problem at hand and one can operate with floating-point objects that exhibit different degrees of accuracy.\n"
      ]
    },
    {
      "cell_type": "markdown",
      "id": "05ae365e",
      "metadata": {
        "id": "05ae365e"
      },
      "source": [
        "Q2). Decimal(\"1.200\") and Decimal(\"1.2\") are two objects to consider. In what sense are these the same object? Are these just two ways of representing the exact same value, or do they correspond to different internal states?\n",
        "\n",
        "ANs) Ans : Though they are identical value wise, internal representation or internal state of these two values are different, as they have decimal values of different precisions. "
      ]
    },
    {
      "cell_type": "code",
      "execution_count": 3,
      "id": "08e4713c",
      "metadata": {
        "colab": {
          "base_uri": "https://localhost:8080/"
        },
        "id": "08e4713c",
        "outputId": "872bb145-326a-4825-b99e-11fba672002b"
      },
      "outputs": [
        {
          "output_type": "stream",
          "name": "stdout",
          "text": [
            "1.200\n",
            "1.2\n"
          ]
        }
      ],
      "source": [
        "print(Decimal('1.200'))\n",
        "print(Decimal('1.2'))"
      ]
    },
    {
      "cell_type": "markdown",
      "id": "5ffda4bd",
      "metadata": {
        "id": "5ffda4bd"
      },
      "source": [
        "Q3). What happens if the equality of Decimal(\"1.200\") and Decimal(\"1.2\") is checked?\n",
        "\n",
        "Ans)It returns that the values are stored are True."
      ]
    },
    {
      "cell_type": "code",
      "execution_count": 4,
      "id": "4468410e",
      "metadata": {
        "colab": {
          "base_uri": "https://localhost:8080/"
        },
        "id": "4468410e",
        "outputId": "288f1287-1f10-482a-e89e-bd5db5fa644e"
      },
      "outputs": [
        {
          "output_type": "stream",
          "name": "stdout",
          "text": [
            "True\n"
          ]
        }
      ],
      "source": [
        "print(Decimal('1.200') == Decimal('1.2'))"
      ]
    },
    {
      "cell_type": "markdown",
      "id": "d3b94bb9",
      "metadata": {
        "id": "d3b94bb9"
      },
      "source": [
        "Q4). Why is it preferable to start a Decimal object with a string rather than a floating-point value?\n",
        "\n",
        "Ans)Floating-point value is converted to Decimal format. Decimal can store float value with absolute precision. But when float value is given as Decimal object,it first has to be converted from floating point value which might already have rounding error.Hence it is preferable to start a Decimal object with a string."
      ]
    },
    {
      "cell_type": "markdown",
      "id": "71250e25",
      "metadata": {
        "id": "71250e25"
      },
      "source": [
        "Q5). In an arithmetic phrase, how simple is it to combine Decimal objects with integers?"
      ]
    },
    {
      "cell_type": "code",
      "execution_count": 6,
      "id": "685b4fd6",
      "metadata": {
        "colab": {
          "base_uri": "https://localhost:8080/"
        },
        "id": "685b4fd6",
        "outputId": "369364b7-18f6-42bc-c33f-e50d9d0ca8c5"
      },
      "outputs": [
        {
          "output_type": "stream",
          "name": "stdout",
          "text": [
            "<class 'int'>\n",
            "5\n",
            "25\n"
          ]
        }
      ],
      "source": [
        "\n",
        "import decimal\n",
        "from decimal import Decimal\n",
        "val=5\n",
        "print(type(val))\n",
        "a=Decimal(val)\n",
        "print(a)\n",
        "b=a*Decimal(val)\n",
        "print(b)"
      ]
    },
    {
      "cell_type": "markdown",
      "id": "512c9b1f",
      "metadata": {
        "id": "512c9b1f"
      },
      "source": [
        "Q6). Can Decimal objects and floating-point values be combined easily?\n",
        "\n",
        "Ans)  Arithmetic operfations like Adding,subtracting or multiplying a Decimal object by a floating-point value is generates an error. To do these operations, the floating point has to be converted to a Decimal object—for example, converting from a floating-point value and then rounding. Else, arithmetic operations between the two types cause runtime errors.import decimal"
      ]
    },
    {
      "cell_type": "markdown",
      "id": "2ac677ff",
      "metadata": {
        "id": "2ac677ff"
      },
      "source": [
        "Q7). Using the Fraction class but not the Decimal class, give an example of a quantity that can be expressed with absolute precision."
      ]
    },
    {
      "cell_type": "code",
      "execution_count": 8,
      "id": "7582d26a",
      "metadata": {
        "colab": {
          "base_uri": "https://localhost:8080/"
        },
        "id": "7582d26a",
        "outputId": "eb71b15f-629b-4e7c-9c65-45444d41b0f7"
      },
      "outputs": [
        {
          "output_type": "stream",
          "name": "stdout",
          "text": [
            "3602879701896397/18014398509481984\n"
          ]
        }
      ],
      "source": [
        "from fractions import Fraction\n",
        "val=0.2\n",
        "fr=Fraction(val)\n",
        "print(fr)"
      ]
    },
    {
      "cell_type": "markdown",
      "id": "89d04bcb",
      "metadata": {
        "id": "89d04bcb"
      },
      "source": [
        "Q8). Describe a quantity that can be accurately expressed by the Decimal or Fraction classes but not by a floating-point value."
      ]
    },
    {
      "cell_type": "code",
      "execution_count": 9,
      "id": "0b6ddcd9",
      "metadata": {
        "colab": {
          "base_uri": "https://localhost:8080/"
        },
        "id": "0b6ddcd9",
        "outputId": "09284028-ab0a-45b1-ca9a-50a655b9251f"
      },
      "outputs": [
        {
          "output_type": "stream",
          "name": "stdout",
          "text": [
            "decimal= 0.01\n",
            "fraction= 1/100\n",
            "float value= 0.010000000000000002\n"
          ]
        }
      ],
      "source": [
        "d=Decimal('0.1') * Decimal('0.1')\n",
        "print(\"decimal=\",d)\n",
        "frac=Fraction('1/10') * Fraction('1/10')\n",
        "print(\"fraction=\",frac)\n",
        "fl=0.1*0.1\n",
        "print(\"float value=\",fl)"
      ]
    },
    {
      "cell_type": "markdown",
      "id": "1d31a03c",
      "metadata": {
        "id": "1d31a03c"
      },
      "source": [
        "Q9.Consider the following two fraction objects: Fraction(1, 2) and Fraction(1, 2). (5, 10). Is the internal state of these two objects the same? Why do you think that is?"
      ]
    },
    {
      "cell_type": "code",
      "execution_count": 11,
      "id": "3cc84ed6",
      "metadata": {
        "colab": {
          "base_uri": "https://localhost:8080/"
        },
        "id": "3cc84ed6",
        "outputId": "074356fb-c6dc-49b7-d9ec-60dc3f86db6c"
      },
      "outputs": [
        {
          "output_type": "stream",
          "name": "stdout",
          "text": [
            "1/2\n",
            "1/2\n",
            "Fraction (1,2) and Fraction(5,10) are equal\n"
          ]
        }
      ],
      "source": [
        "from fractions import Fraction\n",
        "frac1=Fraction(1, 2)\n",
        "print(frac1)\n",
        "frac2=Fraction(5, 10)\n",
        "print(frac2)\n",
        "if (frac1 == frac2 ):\n",
        "    print('Fraction (1,2) and Fraction(5,10) are equal')\n"
      ]
    },
    {
      "cell_type": "markdown",
      "id": "a4b6d952",
      "metadata": {
        "id": "a4b6d952"
      },
      "source": [
        "Q10). How do the Fraction class and the integer type (int) relate to each other? Containment or inheritance?\n",
        "\n",
        "Ans)Fraction class and integer type(int) are related in form of a container.\n",
        "It contains two ints, one the numerator and the other the denominator."
      ]
    },
    {
      "cell_type": "code",
      "execution_count": 12,
      "id": "756c4487",
      "metadata": {
        "colab": {
          "base_uri": "https://localhost:8080/"
        },
        "id": "756c4487",
        "outputId": "281a3adf-5bfd-40bc-f731-00a5003af845"
      },
      "outputs": [
        {
          "output_type": "stream",
          "name": "stdout",
          "text": [
            "numerator is 1 <class 'int'>\n",
            "denominator is 2 <class 'int'>\n"
          ]
        }
      ],
      "source": [
        "from fractions import Fraction\n",
        "frac = Fraction(1,2)\n",
        "print('numerator is', frac.numerator,type(frac.numerator))\n",
        "print('denominator is', frac.denominator,type(frac.numerator) )"
      ]
    }
  ],
  "metadata": {
    "kernelspec": {
      "display_name": "Python 3",
      "language": "python",
      "name": "python3"
    },
    "language_info": {
      "codemirror_mode": {
        "name": "ipython",
        "version": 3
      },
      "file_extension": ".py",
      "mimetype": "text/x-python",
      "name": "python",
      "nbconvert_exporter": "python",
      "pygments_lexer": "ipython3",
      "version": "3.8.8"
    },
    "colab": {
      "name": "Python_Advance_Assignment_20.ipynb",
      "provenance": []
    }
  },
  "nbformat": 4,
  "nbformat_minor": 5
}